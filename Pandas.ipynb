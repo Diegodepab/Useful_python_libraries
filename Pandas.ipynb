{
  "nbformat": 4,
  "nbformat_minor": 0,
  "metadata": {
    "colab": {
      "provenance": []
    },
    "kernelspec": {
      "name": "python3",
      "display_name": "Python 3"
    },
    "language_info": {
      "name": "python"
    }
  },
  "cells": [
    {
      "cell_type": "markdown",
      "source": [
        "# **Pandas** LIBRARY EXERCISES"
      ],
      "metadata": {
        "id": "Uvw5i954gsr1"
      }
    },
    {
      "cell_type": "markdown",
      "source": [
        "Some exercises to show functions or utilities of the numpy library. For more information you can visit: https://pandas.pydata.org/docs/"
      ],
      "metadata": {
        "id": "qG4zxGIDhHZk"
      }
    },
    {
      "cell_type": "markdown",
      "source": [
        "**Exercise 1:**  Show the first 10 samples of the dataset."
      ],
      "metadata": {
        "id": "JtheSUFAhL_U"
      }
    },
    {
      "cell_type": "code",
      "source": [
        "from google.colab import drive\n",
        "drive.mount('/content/drive')\n",
        "import numpy as np\n",
        "import pandas as pd\n",
        "df = pd.read_csv('/content/drive/MyDrive/Colab Notebooks/bmw.csv') #direccion de TU csv, hay files de ejemplo en mi github\n",
        "df.head(10)\n"
      ],
      "metadata": {
        "colab": {
          "base_uri": "https://localhost:8080/",
          "height": 574
        },
        "id": "X4eJpuxhqsAS",
        "outputId": "7fef40cd-3212-49e0-a85a-f8ff7e76e2b1"
      },
      "execution_count": 6,
      "outputs": [
        {
          "output_type": "stream",
          "name": "stdout",
          "text": [
            "Drive already mounted at /content/drive; to attempt to forcibly remount, call drive.mount(\"/content/drive\", force_remount=True).\n"
          ]
        },
        {
          "output_type": "execute_result",
          "data": {
            "text/plain": [
              "       model  year  price transmission  mileage fuelType  tax   mpg  \\\n",
              "0   5 Series  2014  11200    Automatic    67068   Diesel  125  57.6   \n",
              "1   6 Series  2018  27000    Automatic    14827   Petrol  145  42.8   \n",
              "2   5 Series  2016  16000    Automatic    62794   Diesel  160  51.4   \n",
              "3   1 Series  2017  12750    Automatic    26676   Diesel  145  72.4   \n",
              "4   7 Series  2014  14500    Automatic    39554   Diesel  160  50.4   \n",
              "5   5 Series  2016  14900    Automatic    35309   Diesel  125  60.1   \n",
              "6   5 Series  2017  16000    Automatic    38538   Diesel  125  60.1   \n",
              "7   2 Series  2018  16250       Manual    10401   Petrol  145  52.3   \n",
              "8   4 Series  2017  14250       Manual    42668   Diesel   30  62.8   \n",
              "9   5 Series  2016  14250    Automatic    36099   Diesel   20  68.9   \n",
              "\n",
              "   engineSize  \n",
              "0         2.0  \n",
              "1         2.0  \n",
              "2         3.0  \n",
              "3         1.5  \n",
              "4         3.0  \n",
              "5         2.0  \n",
              "6         2.0  \n",
              "7         1.5  \n",
              "8         2.0  \n",
              "9         2.0  "
            ],
            "text/html": [
              "\n",
              "  <div id=\"df-098d5a8d-5e67-4726-a957-f0f23cf1f43a\" class=\"colab-df-container\">\n",
              "    <div>\n",
              "<style scoped>\n",
              "    .dataframe tbody tr th:only-of-type {\n",
              "        vertical-align: middle;\n",
              "    }\n",
              "\n",
              "    .dataframe tbody tr th {\n",
              "        vertical-align: top;\n",
              "    }\n",
              "\n",
              "    .dataframe thead th {\n",
              "        text-align: right;\n",
              "    }\n",
              "</style>\n",
              "<table border=\"1\" class=\"dataframe\">\n",
              "  <thead>\n",
              "    <tr style=\"text-align: right;\">\n",
              "      <th></th>\n",
              "      <th>model</th>\n",
              "      <th>year</th>\n",
              "      <th>price</th>\n",
              "      <th>transmission</th>\n",
              "      <th>mileage</th>\n",
              "      <th>fuelType</th>\n",
              "      <th>tax</th>\n",
              "      <th>mpg</th>\n",
              "      <th>engineSize</th>\n",
              "    </tr>\n",
              "  </thead>\n",
              "  <tbody>\n",
              "    <tr>\n",
              "      <th>0</th>\n",
              "      <td>5 Series</td>\n",
              "      <td>2014</td>\n",
              "      <td>11200</td>\n",
              "      <td>Automatic</td>\n",
              "      <td>67068</td>\n",
              "      <td>Diesel</td>\n",
              "      <td>125</td>\n",
              "      <td>57.6</td>\n",
              "      <td>2.0</td>\n",
              "    </tr>\n",
              "    <tr>\n",
              "      <th>1</th>\n",
              "      <td>6 Series</td>\n",
              "      <td>2018</td>\n",
              "      <td>27000</td>\n",
              "      <td>Automatic</td>\n",
              "      <td>14827</td>\n",
              "      <td>Petrol</td>\n",
              "      <td>145</td>\n",
              "      <td>42.8</td>\n",
              "      <td>2.0</td>\n",
              "    </tr>\n",
              "    <tr>\n",
              "      <th>2</th>\n",
              "      <td>5 Series</td>\n",
              "      <td>2016</td>\n",
              "      <td>16000</td>\n",
              "      <td>Automatic</td>\n",
              "      <td>62794</td>\n",
              "      <td>Diesel</td>\n",
              "      <td>160</td>\n",
              "      <td>51.4</td>\n",
              "      <td>3.0</td>\n",
              "    </tr>\n",
              "    <tr>\n",
              "      <th>3</th>\n",
              "      <td>1 Series</td>\n",
              "      <td>2017</td>\n",
              "      <td>12750</td>\n",
              "      <td>Automatic</td>\n",
              "      <td>26676</td>\n",
              "      <td>Diesel</td>\n",
              "      <td>145</td>\n",
              "      <td>72.4</td>\n",
              "      <td>1.5</td>\n",
              "    </tr>\n",
              "    <tr>\n",
              "      <th>4</th>\n",
              "      <td>7 Series</td>\n",
              "      <td>2014</td>\n",
              "      <td>14500</td>\n",
              "      <td>Automatic</td>\n",
              "      <td>39554</td>\n",
              "      <td>Diesel</td>\n",
              "      <td>160</td>\n",
              "      <td>50.4</td>\n",
              "      <td>3.0</td>\n",
              "    </tr>\n",
              "    <tr>\n",
              "      <th>5</th>\n",
              "      <td>5 Series</td>\n",
              "      <td>2016</td>\n",
              "      <td>14900</td>\n",
              "      <td>Automatic</td>\n",
              "      <td>35309</td>\n",
              "      <td>Diesel</td>\n",
              "      <td>125</td>\n",
              "      <td>60.1</td>\n",
              "      <td>2.0</td>\n",
              "    </tr>\n",
              "    <tr>\n",
              "      <th>6</th>\n",
              "      <td>5 Series</td>\n",
              "      <td>2017</td>\n",
              "      <td>16000</td>\n",
              "      <td>Automatic</td>\n",
              "      <td>38538</td>\n",
              "      <td>Diesel</td>\n",
              "      <td>125</td>\n",
              "      <td>60.1</td>\n",
              "      <td>2.0</td>\n",
              "    </tr>\n",
              "    <tr>\n",
              "      <th>7</th>\n",
              "      <td>2 Series</td>\n",
              "      <td>2018</td>\n",
              "      <td>16250</td>\n",
              "      <td>Manual</td>\n",
              "      <td>10401</td>\n",
              "      <td>Petrol</td>\n",
              "      <td>145</td>\n",
              "      <td>52.3</td>\n",
              "      <td>1.5</td>\n",
              "    </tr>\n",
              "    <tr>\n",
              "      <th>8</th>\n",
              "      <td>4 Series</td>\n",
              "      <td>2017</td>\n",
              "      <td>14250</td>\n",
              "      <td>Manual</td>\n",
              "      <td>42668</td>\n",
              "      <td>Diesel</td>\n",
              "      <td>30</td>\n",
              "      <td>62.8</td>\n",
              "      <td>2.0</td>\n",
              "    </tr>\n",
              "    <tr>\n",
              "      <th>9</th>\n",
              "      <td>5 Series</td>\n",
              "      <td>2016</td>\n",
              "      <td>14250</td>\n",
              "      <td>Automatic</td>\n",
              "      <td>36099</td>\n",
              "      <td>Diesel</td>\n",
              "      <td>20</td>\n",
              "      <td>68.9</td>\n",
              "      <td>2.0</td>\n",
              "    </tr>\n",
              "  </tbody>\n",
              "</table>\n",
              "</div>\n",
              "    <div class=\"colab-df-buttons\">\n",
              "\n",
              "  <div class=\"colab-df-container\">\n",
              "    <button class=\"colab-df-convert\" onclick=\"convertToInteractive('df-098d5a8d-5e67-4726-a957-f0f23cf1f43a')\"\n",
              "            title=\"Convert this dataframe to an interactive table.\"\n",
              "            style=\"display:none;\">\n",
              "\n",
              "  <svg xmlns=\"http://www.w3.org/2000/svg\" height=\"24px\" viewBox=\"0 -960 960 960\">\n",
              "    <path d=\"M120-120v-720h720v720H120Zm60-500h600v-160H180v160Zm220 220h160v-160H400v160Zm0 220h160v-160H400v160ZM180-400h160v-160H180v160Zm440 0h160v-160H620v160ZM180-180h160v-160H180v160Zm440 0h160v-160H620v160Z\"/>\n",
              "  </svg>\n",
              "    </button>\n",
              "\n",
              "  <style>\n",
              "    .colab-df-container {\n",
              "      display:flex;\n",
              "      gap: 12px;\n",
              "    }\n",
              "\n",
              "    .colab-df-convert {\n",
              "      background-color: #E8F0FE;\n",
              "      border: none;\n",
              "      border-radius: 50%;\n",
              "      cursor: pointer;\n",
              "      display: none;\n",
              "      fill: #1967D2;\n",
              "      height: 32px;\n",
              "      padding: 0 0 0 0;\n",
              "      width: 32px;\n",
              "    }\n",
              "\n",
              "    .colab-df-convert:hover {\n",
              "      background-color: #E2EBFA;\n",
              "      box-shadow: 0px 1px 2px rgba(60, 64, 67, 0.3), 0px 1px 3px 1px rgba(60, 64, 67, 0.15);\n",
              "      fill: #174EA6;\n",
              "    }\n",
              "\n",
              "    .colab-df-buttons div {\n",
              "      margin-bottom: 4px;\n",
              "    }\n",
              "\n",
              "    [theme=dark] .colab-df-convert {\n",
              "      background-color: #3B4455;\n",
              "      fill: #D2E3FC;\n",
              "    }\n",
              "\n",
              "    [theme=dark] .colab-df-convert:hover {\n",
              "      background-color: #434B5C;\n",
              "      box-shadow: 0px 1px 3px 1px rgba(0, 0, 0, 0.15);\n",
              "      filter: drop-shadow(0px 1px 2px rgba(0, 0, 0, 0.3));\n",
              "      fill: #FFFFFF;\n",
              "    }\n",
              "  </style>\n",
              "\n",
              "    <script>\n",
              "      const buttonEl =\n",
              "        document.querySelector('#df-098d5a8d-5e67-4726-a957-f0f23cf1f43a button.colab-df-convert');\n",
              "      buttonEl.style.display =\n",
              "        google.colab.kernel.accessAllowed ? 'block' : 'none';\n",
              "\n",
              "      async function convertToInteractive(key) {\n",
              "        const element = document.querySelector('#df-098d5a8d-5e67-4726-a957-f0f23cf1f43a');\n",
              "        const dataTable =\n",
              "          await google.colab.kernel.invokeFunction('convertToInteractive',\n",
              "                                                    [key], {});\n",
              "        if (!dataTable) return;\n",
              "\n",
              "        const docLinkHtml = 'Like what you see? Visit the ' +\n",
              "          '<a target=\"_blank\" href=https://colab.research.google.com/notebooks/data_table.ipynb>data table notebook</a>'\n",
              "          + ' to learn more about interactive tables.';\n",
              "        element.innerHTML = '';\n",
              "        dataTable['output_type'] = 'display_data';\n",
              "        await google.colab.output.renderOutput(dataTable, element);\n",
              "        const docLink = document.createElement('div');\n",
              "        docLink.innerHTML = docLinkHtml;\n",
              "        element.appendChild(docLink);\n",
              "      }\n",
              "    </script>\n",
              "  </div>\n",
              "\n",
              "\n",
              "<div id=\"df-73a1ca62-9c85-4101-b596-a9e35e2976d3\">\n",
              "  <button class=\"colab-df-quickchart\" onclick=\"quickchart('df-73a1ca62-9c85-4101-b596-a9e35e2976d3')\"\n",
              "            title=\"Suggest charts\"\n",
              "            style=\"display:none;\">\n",
              "\n",
              "<svg xmlns=\"http://www.w3.org/2000/svg\" height=\"24px\"viewBox=\"0 0 24 24\"\n",
              "     width=\"24px\">\n",
              "    <g>\n",
              "        <path d=\"M19 3H5c-1.1 0-2 .9-2 2v14c0 1.1.9 2 2 2h14c1.1 0 2-.9 2-2V5c0-1.1-.9-2-2-2zM9 17H7v-7h2v7zm4 0h-2V7h2v10zm4 0h-2v-4h2v4z\"/>\n",
              "    </g>\n",
              "</svg>\n",
              "  </button>\n",
              "\n",
              "<style>\n",
              "  .colab-df-quickchart {\n",
              "      --bg-color: #E8F0FE;\n",
              "      --fill-color: #1967D2;\n",
              "      --hover-bg-color: #E2EBFA;\n",
              "      --hover-fill-color: #174EA6;\n",
              "      --disabled-fill-color: #AAA;\n",
              "      --disabled-bg-color: #DDD;\n",
              "  }\n",
              "\n",
              "  [theme=dark] .colab-df-quickchart {\n",
              "      --bg-color: #3B4455;\n",
              "      --fill-color: #D2E3FC;\n",
              "      --hover-bg-color: #434B5C;\n",
              "      --hover-fill-color: #FFFFFF;\n",
              "      --disabled-bg-color: #3B4455;\n",
              "      --disabled-fill-color: #666;\n",
              "  }\n",
              "\n",
              "  .colab-df-quickchart {\n",
              "    background-color: var(--bg-color);\n",
              "    border: none;\n",
              "    border-radius: 50%;\n",
              "    cursor: pointer;\n",
              "    display: none;\n",
              "    fill: var(--fill-color);\n",
              "    height: 32px;\n",
              "    padding: 0;\n",
              "    width: 32px;\n",
              "  }\n",
              "\n",
              "  .colab-df-quickchart:hover {\n",
              "    background-color: var(--hover-bg-color);\n",
              "    box-shadow: 0 1px 2px rgba(60, 64, 67, 0.3), 0 1px 3px 1px rgba(60, 64, 67, 0.15);\n",
              "    fill: var(--button-hover-fill-color);\n",
              "  }\n",
              "\n",
              "  .colab-df-quickchart-complete:disabled,\n",
              "  .colab-df-quickchart-complete:disabled:hover {\n",
              "    background-color: var(--disabled-bg-color);\n",
              "    fill: var(--disabled-fill-color);\n",
              "    box-shadow: none;\n",
              "  }\n",
              "\n",
              "  .colab-df-spinner {\n",
              "    border: 2px solid var(--fill-color);\n",
              "    border-color: transparent;\n",
              "    border-bottom-color: var(--fill-color);\n",
              "    animation:\n",
              "      spin 1s steps(1) infinite;\n",
              "  }\n",
              "\n",
              "  @keyframes spin {\n",
              "    0% {\n",
              "      border-color: transparent;\n",
              "      border-bottom-color: var(--fill-color);\n",
              "      border-left-color: var(--fill-color);\n",
              "    }\n",
              "    20% {\n",
              "      border-color: transparent;\n",
              "      border-left-color: var(--fill-color);\n",
              "      border-top-color: var(--fill-color);\n",
              "    }\n",
              "    30% {\n",
              "      border-color: transparent;\n",
              "      border-left-color: var(--fill-color);\n",
              "      border-top-color: var(--fill-color);\n",
              "      border-right-color: var(--fill-color);\n",
              "    }\n",
              "    40% {\n",
              "      border-color: transparent;\n",
              "      border-right-color: var(--fill-color);\n",
              "      border-top-color: var(--fill-color);\n",
              "    }\n",
              "    60% {\n",
              "      border-color: transparent;\n",
              "      border-right-color: var(--fill-color);\n",
              "    }\n",
              "    80% {\n",
              "      border-color: transparent;\n",
              "      border-right-color: var(--fill-color);\n",
              "      border-bottom-color: var(--fill-color);\n",
              "    }\n",
              "    90% {\n",
              "      border-color: transparent;\n",
              "      border-bottom-color: var(--fill-color);\n",
              "    }\n",
              "  }\n",
              "</style>\n",
              "\n",
              "  <script>\n",
              "    async function quickchart(key) {\n",
              "      const quickchartButtonEl =\n",
              "        document.querySelector('#' + key + ' button');\n",
              "      quickchartButtonEl.disabled = true;  // To prevent multiple clicks.\n",
              "      quickchartButtonEl.classList.add('colab-df-spinner');\n",
              "      try {\n",
              "        const charts = await google.colab.kernel.invokeFunction(\n",
              "            'suggestCharts', [key], {});\n",
              "      } catch (error) {\n",
              "        console.error('Error during call to suggestCharts:', error);\n",
              "      }\n",
              "      quickchartButtonEl.classList.remove('colab-df-spinner');\n",
              "      quickchartButtonEl.classList.add('colab-df-quickchart-complete');\n",
              "    }\n",
              "    (() => {\n",
              "      let quickchartButtonEl =\n",
              "        document.querySelector('#df-73a1ca62-9c85-4101-b596-a9e35e2976d3 button');\n",
              "      quickchartButtonEl.style.display =\n",
              "        google.colab.kernel.accessAllowed ? 'block' : 'none';\n",
              "    })();\n",
              "  </script>\n",
              "</div>\n",
              "    </div>\n",
              "  </div>\n"
            ]
          },
          "metadata": {},
          "execution_count": 6
        }
      ]
    },
    {
      "cell_type": "code",
      "source": [
        "#primer apartado\n",
        "print(df[0:10]) # otra forma"
      ],
      "metadata": {
        "colab": {
          "base_uri": "https://localhost:8080/"
        },
        "id": "h6qv71q0t7lI",
        "outputId": "6aa21244-83d7-4670-c126-5c47effeecf5"
      },
      "execution_count": 7,
      "outputs": [
        {
          "output_type": "stream",
          "name": "stdout",
          "text": [
            "       model  year  price transmission  mileage fuelType  tax   mpg  \\\n",
            "0   5 Series  2014  11200    Automatic    67068   Diesel  125  57.6   \n",
            "1   6 Series  2018  27000    Automatic    14827   Petrol  145  42.8   \n",
            "2   5 Series  2016  16000    Automatic    62794   Diesel  160  51.4   \n",
            "3   1 Series  2017  12750    Automatic    26676   Diesel  145  72.4   \n",
            "4   7 Series  2014  14500    Automatic    39554   Diesel  160  50.4   \n",
            "5   5 Series  2016  14900    Automatic    35309   Diesel  125  60.1   \n",
            "6   5 Series  2017  16000    Automatic    38538   Diesel  125  60.1   \n",
            "7   2 Series  2018  16250       Manual    10401   Petrol  145  52.3   \n",
            "8   4 Series  2017  14250       Manual    42668   Diesel   30  62.8   \n",
            "9   5 Series  2016  14250    Automatic    36099   Diesel   20  68.9   \n",
            "\n",
            "   engineSize  \n",
            "0         2.0  \n",
            "1         2.0  \n",
            "2         3.0  \n",
            "3         1.5  \n",
            "4         3.0  \n",
            "5         2.0  \n",
            "6         2.0  \n",
            "7         1.5  \n",
            "8         2.0  \n",
            "9         2.0  \n"
          ]
        }
      ]
    },
    {
      "cell_type": "markdown",
      "source": [
        "**Exercise 2:**  Obtain the data series corresponding to the year attribute, and then obtain the datatype and the number of samples of such series."
      ],
      "metadata": {
        "id": "W46o2m-duLjQ"
      }
    },
    {
      "cell_type": "code",
      "source": [
        "#apartado 2\n",
        "year=df['year']\n",
        "year_type = year.dtype;\n",
        "nsample = len(year)\n",
        "print(\"the year atribute is:\", year_type)\n",
        "print(\"the number of samples of such series: \", nsample)"
      ],
      "metadata": {
        "colab": {
          "base_uri": "https://localhost:8080/"
        },
        "id": "0rqLADGKuM-W",
        "outputId": "afcc336e-4083-484d-a68e-7b6d4fb1efa5"
      },
      "execution_count": 8,
      "outputs": [
        {
          "output_type": "stream",
          "name": "stdout",
          "text": [
            "the year atribute is: int64\n",
            "the number of samples of such series:  10781\n"
          ]
        }
      ]
    },
    {
      "cell_type": "markdown",
      "source": [
        "**Exercise 3:**  Obtain the data series corresponding to the mileage attribute, and then select the samples whose position in the series are multiples of 7."
      ],
      "metadata": {
        "id": "hlcUZ7KfuSbO"
      }
    },
    {
      "cell_type": "code",
      "source": [
        "#apartado3\n",
        "mileage = df['mileage']\n",
        "sample = mileage[::7];\n",
        "print(\"data series corresponding to the mileage a tribute whose position in the\\\n",
        " series are multiples of 7 is: \\n\", sample)"
      ],
      "metadata": {
        "colab": {
          "base_uri": "https://localhost:8080/"
        },
        "id": "9T1jzzMIuUr-",
        "outputId": "d75d2cb0-42f1-4681-81ec-50966c5e1f16"
      },
      "execution_count": 9,
      "outputs": [
        {
          "output_type": "stream",
          "name": "stdout",
          "text": [
            "data series corresponding to the mileage a tribute whose position in the series are multiples of 7 is: \n",
            " 0        67068\n",
            "7        10401\n",
            "14       19057\n",
            "21       78957\n",
            "28       96213\n",
            "         ...  \n",
            "10752    41500\n",
            "10759    54008\n",
            "10766    54987\n",
            "10773    60372\n",
            "10780    59432\n",
            "Name: mileage, Length: 1541, dtype: int64\n"
          ]
        }
      ]
    },
    {
      "cell_type": "markdown",
      "source": [
        "**Exercise 4:** Obtain the data series corresponding to the mileage attribute, and then select\n",
        "randomly 40% of the samples of the series.\n"
      ],
      "metadata": {
        "id": "Ngmy0WHYuda-"
      }
    },
    {
      "cell_type": "code",
      "source": [
        "mileage_series = df['mileage']\n",
        "random_samples = mileage_series.sample(frac=0.4, random_state=np.random.randint(10000))\n",
        "print(random_samples)"
      ],
      "metadata": {
        "colab": {
          "base_uri": "https://localhost:8080/"
        },
        "id": "1VTgAFEMuhO9",
        "outputId": "78171f23-b7e2-4099-b91f-488f5dc5ea81"
      },
      "execution_count": 10,
      "outputs": [
        {
          "output_type": "stream",
          "name": "stdout",
          "text": [
            "10595    44585\n",
            "2648       112\n",
            "4762       100\n",
            "7603     53000\n",
            "1963     26841\n",
            "         ...  \n",
            "9166      1221\n",
            "4057      7102\n",
            "8631     26267\n",
            "9022     25328\n",
            "10001    17000\n",
            "Name: mileage, Length: 4312, dtype: int64\n"
          ]
        }
      ]
    },
    {
      "cell_type": "markdown",
      "source": [
        "**Exercise 5:** Obtain the data series corresponding to the mileage attribute, and then select the samples with a value lower than 20000 of that series."
      ],
      "metadata": {
        "id": "FW73r1Nhumol"
      }
    },
    {
      "cell_type": "code",
      "source": [
        "#apartado 5\n",
        "mileage = df['mileage']\n",
        "sample = mileage[mileage < 20000]\n",
        "print(sample)"
      ],
      "metadata": {
        "colab": {
          "base_uri": "https://localhost:8080/"
        },
        "id": "WPOef_-kurFc",
        "outputId": "0d0b7e34-7afa-41a2-9fcc-4484ff47dc4c"
      },
      "execution_count": 11,
      "outputs": [
        {
          "output_type": "stream",
          "name": "stdout",
          "text": [
            "1        14827\n",
            "7        10401\n",
            "14       19057\n",
            "15       16570\n",
            "39        6522\n",
            "         ...  \n",
            "10740     3551\n",
            "10741     2784\n",
            "10742     5634\n",
            "10743    13165\n",
            "10755    13955\n",
            "Name: mileage, Length: 5610, dtype: int64\n"
          ]
        }
      ]
    },
    {
      "cell_type": "markdown",
      "source": [
        "**Exercise 6:**  Obtain the data series corresponding to the mpg attribute, and then sort the samples of the series."
      ],
      "metadata": {
        "id": "htOQQce0utVN"
      }
    },
    {
      "cell_type": "code",
      "source": [
        " #apartado 6\n",
        "mpg = df['mpg']\n",
        "sorted_mpg = mpg.sort_values()\n",
        "print(sorted_mpg)"
      ],
      "metadata": {
        "colab": {
          "base_uri": "https://localhost:8080/"
        },
        "id": "QkcNdiGMu2vW",
        "outputId": "ce69d8ca-5204-4f4d-bd16-f8d1b92428a2"
      },
      "execution_count": 12,
      "outputs": [
        {
          "output_type": "stream",
          "name": "stdout",
          "text": [
            "6965      5.5\n",
            "6172      5.5\n",
            "6132      5.5\n",
            "6198      5.5\n",
            "2116      5.5\n",
            "        ...  \n",
            "7299    470.8\n",
            "3628    470.8\n",
            "6070    470.8\n",
            "2352    470.8\n",
            "7347    470.8\n",
            "Name: mpg, Length: 10781, dtype: float64\n"
          ]
        }
      ]
    },
    {
      "cell_type": "markdown",
      "source": [
        "**Exercise 7:** Compute the mean, the standard deviation, the maximum and the minimum of the engineSize attribute."
      ],
      "metadata": {
        "id": "788a1LFGuwLm"
      }
    },
    {
      "cell_type": "code",
      "source": [
        "#apartado 7\n",
        "engenieSize = df['engineSize']\n",
        "mean_engenieSize = engenieSize.mean()\n",
        "dsv_stan_engenieSize = engenieSize.std()\n",
        "max_engenieSize = engenieSize.max()\n",
        "min_engenieSize = engenieSize.min()\n",
        "print('mean: ', mean_engenieSize)\n",
        "print('Standard Deviation: ' , dsv_stan_engenieSize )\n",
        "print('Maximum: ', max_engenieSize)\n",
        "print('Minimum: ', min_engenieSize)"
      ],
      "metadata": {
        "colab": {
          "base_uri": "https://localhost:8080/"
        },
        "id": "ai60OeuWu6xm",
        "outputId": "a5997d8c-d874-43cd-9889-21661c282a53"
      },
      "execution_count": 13,
      "outputs": [
        {
          "output_type": "stream",
          "name": "stdout",
          "text": [
            "mean:  2.1677673685186902\n",
            "Standard Deviation:  0.5520537772398375\n",
            "Maximum:  6.6\n",
            "Minimum:  0.0\n"
          ]
        }
      ]
    },
    {
      "cell_type": "markdown",
      "source": [
        "**Exercise 8:**  Obtain the number of rows and columns of the dataset, and the third sample starting from the end."
      ],
      "metadata": {
        "id": "JLWz6i8vu-0m"
      }
    },
    {
      "cell_type": "code",
      "source": [
        "#apartado 8\n",
        "num_row, num_col = df.shape\n",
        "Example = df.iloc[-3]\n",
        "print('Number of columns:', num_col)\n",
        "print('Number of rows:', num_row)\n",
        "print('The third sample starting from the end:\\n', Example)"
      ],
      "metadata": {
        "colab": {
          "base_uri": "https://localhost:8080/"
        },
        "id": "UdtjzZrJvC8W",
        "outputId": "55fc4fad-7879-44a2-835a-986a35f5ea74"
      },
      "execution_count": 14,
      "outputs": [
        {
          "output_type": "stream",
          "name": "stdout",
          "text": [
            "Number of columns: 9\n",
            "Number of rows: 10781\n",
            "The third sample starting from the end:\n",
            " model            3 Series\n",
            "year                 2017\n",
            "price               13100\n",
            "transmission       Manual\n",
            "mileage             25468\n",
            "fuelType           Petrol\n",
            "tax                   200\n",
            "mpg                  42.8\n",
            "engineSize            2.0\n",
            "Name: 10778, dtype: object\n"
          ]
        }
      ]
    },
    {
      "cell_type": "markdown",
      "source": [
        "**Exercise 9:**  Extract the mileage, price, and mpg attributes to a new DataFrame, and then choose 20% of the samples at random."
      ],
      "metadata": {
        "id": "1enwAQS9vHFm"
      }
    },
    {
      "cell_type": "code",
      "source": [
        "#apartado 9\n",
        "atributes_df = df[['mileage', 'price', 'mpg']]\n",
        "random_samples = atributes_df.sample(frac=0.2, random_state=np.random.randint(10e5))\n",
        "print(random_samples)"
      ],
      "metadata": {
        "colab": {
          "base_uri": "https://localhost:8080/"
        },
        "id": "yVf5U1sWvLRh",
        "outputId": "73ca8b7a-21f0-483d-d961-1955467c0097"
      },
      "execution_count": 17,
      "outputs": [
        {
          "output_type": "stream",
          "name": "stdout",
          "text": [
            "       mileage  price   mpg\n",
            "5433        10  48155  44.8\n",
            "2418      5234  30920  68.9\n",
            "1551     21470  18512  65.7\n",
            "7200     29286  22875  37.7\n",
            "625       4125  31898  50.4\n",
            "...        ...    ...   ...\n",
            "5586       202  39991  37.2\n",
            "5392      2361  23000  41.5\n",
            "5658      7800  31990  44.8\n",
            "10628     9420  23000  50.4\n",
            "94       14138  12498  72.4\n",
            "\n",
            "[2156 rows x 3 columns]\n"
          ]
        }
      ]
    },
    {
      "cell_type": "markdown",
      "source": [
        "**Exercise 10:**  Obtain the samples whose value of the mileage attribute is lower than 10000 and the value of the mpg attribute is higher than 40."
      ],
      "metadata": {
        "id": "ZTERLk1AvUZH"
      }
    },
    {
      "cell_type": "code",
      "source": [
        "#apartado10\n",
        "samples = df[(df['mileage'] < 10000) & (df['mpg'] > 40)]\n",
        "print(samples)"
      ],
      "metadata": {
        "colab": {
          "base_uri": "https://localhost:8080/"
        },
        "id": "UfZ-xq7OvYd2",
        "outputId": "1b4d0a76-9f93-40c0-9202-fb69b1e3d069"
      },
      "execution_count": 18,
      "outputs": [
        {
          "output_type": "stream",
          "name": "stdout",
          "text": [
            "           model  year  price transmission  mileage fuelType  tax   mpg  \\\n",
            "131     1 Series  2017  14600    Automatic     5615   Petrol  145  58.9   \n",
            "148     1 Series  2016  13700       Manual     8719   Petrol  125  52.3   \n",
            "153     1 Series  2016  13750    Automatic     8707   Petrol   30  55.5   \n",
            "166           X1  2020  31498    Semi-Auto     1560   Diesel  145  60.1   \n",
            "167     2 Series  2020  27998       Manual     1580   Petrol  150  43.5   \n",
            "...          ...   ...    ...          ...      ...      ...  ...   ...   \n",
            "10713   3 Series  2020  23899    Automatic     1255   Petrol  150  47.9   \n",
            "10739   3 Series  2019  23987    Automatic     1049   Petrol  150  47.9   \n",
            "10740   3 Series  2019  23454    Automatic     3551   Petrol  150  47.9   \n",
            "10741   3 Series  2019  23599    Automatic     2784   Petrol  145  47.9   \n",
            "10742   3 Series  2019  23499    Automatic     5634   Petrol  145  47.9   \n",
            "\n",
            "       engineSize  \n",
            "131           1.5  \n",
            "148           1.5  \n",
            "153           1.5  \n",
            "166           2.0  \n",
            "167           1.5  \n",
            "...           ...  \n",
            "10713         2.0  \n",
            "10739         2.0  \n",
            "10740         2.0  \n",
            "10741         2.0  \n",
            "10742         2.0  \n",
            "\n",
            "[3079 rows x 9 columns]\n"
          ]
        }
      ]
    },
    {
      "cell_type": "markdown",
      "source": [
        "**Exercise 11:**   Modify the values of the model attribute so that the \" x Series\" values are changed to \"Series x\", where x is a number between 1 and 9."
      ],
      "metadata": {
        "id": "Q93HVdk5vbH3"
      }
    },
    {
      "cell_type": "code",
      "source": [
        "#apartado11\n",
        "df['model'] = df['model'].replace(r'([1-9]) Series', r'Series \\1', regex=True)\n",
        "print(df['model'])"
      ],
      "metadata": {
        "colab": {
          "base_uri": "https://localhost:8080/"
        },
        "id": "UygJ3xCrvgiO",
        "outputId": "2a68a6d4-7e1b-41d1-e073-422a3e7eb5b4"
      },
      "execution_count": 19,
      "outputs": [
        {
          "output_type": "stream",
          "name": "stdout",
          "text": [
            "0         Series 5\n",
            "1         Series 6\n",
            "2         Series 5\n",
            "3         Series 1\n",
            "4         Series 7\n",
            "           ...    \n",
            "10776           X3\n",
            "10777     Series 5\n",
            "10778     Series 3\n",
            "10779     Series 1\n",
            "10780           X1\n",
            "Name: model, Length: 10781, dtype: object\n"
          ]
        }
      ]
    },
    {
      "cell_type": "markdown",
      "source": [
        "**Exercise 12:**  Insert a new sample with the following values: model=\" 3 Series\", year=2023, price = 22572, transmission = \"Automatic\", mileage = 74120, fuelType = \"Diesel\", tax = 160,  mpg = 58.4, engineSize = 2.0"
      ],
      "metadata": {
        "id": "Bc8mU8Lov3pe"
      }
    },
    {
      "cell_type": "code",
      "source": [
        "#apartado12\n",
        "print(df.tail(2))\n",
        "new_sample = pd.DataFrame({\n",
        "    'model': [\" 3 Series\"],\n",
        "    'year': [2023],\n",
        "    'price': [22572],\n",
        "    'transmission': [\"Automatic\"],\n",
        "    'mileage': [74120],\n",
        "    'fuelType': [\"Diesel\"],\n",
        "    'tax': [160],\n",
        "    'mpg': [58.4],\n",
        "    'engineSize': [2.0]\n",
        "})\n",
        "\n",
        "df = df.append(new_sample, ignore_index=True)\n",
        "print(df.tail(2))\n",
        "#df = df.drop(df.tail(1).index) to erase the last one"
      ],
      "metadata": {
        "colab": {
          "base_uri": "https://localhost:8080/"
        },
        "id": "IeK9MtOev44f",
        "outputId": "39290e7d-6e05-4cf2-fcb9-13dab4da7557"
      },
      "execution_count": 25,
      "outputs": [
        {
          "output_type": "stream",
          "name": "stdout",
          "text": [
            "           model  year  price transmission  mileage fuelType  tax   mpg  \\\n",
            "10781   3 Series  2023  22572    Automatic    74120   Diesel  160  58.4   \n",
            "10782   3 Series  2023  22572    Automatic    74120   Diesel  160  58.4   \n",
            "\n",
            "       engineSize  \n",
            "10781         2.0  \n",
            "10782         2.0  \n",
            "           model  year  price transmission  mileage fuelType  tax   mpg  \\\n",
            "10782   3 Series  2023  22572    Automatic    74120   Diesel  160  58.4   \n",
            "10783   3 Series  2023  22572    Automatic    74120   Diesel  160  58.4   \n",
            "\n",
            "       engineSize  \n",
            "10782         2.0  \n",
            "10783         2.0  \n"
          ]
        },
        {
          "output_type": "stream",
          "name": "stderr",
          "text": [
            "<ipython-input-25-8df6ecedc492>:15: FutureWarning: The frame.append method is deprecated and will be removed from pandas in a future version. Use pandas.concat instead.\n",
            "  df = df.append(new_sample, ignore_index=True)\n"
          ]
        }
      ]
    },
    {
      "cell_type": "markdown",
      "source": [
        "**Exercise 13:**  Convert the DataFrame into a numpy ndarray and print out the data type of the obtained ndarray."
      ],
      "metadata": {
        "id": "tww3LFFJxO8m"
      }
    },
    {
      "cell_type": "code",
      "source": [
        "#apartado13\n",
        "ndarray = df.values\n",
        "print(\"The array: \\n\", ndarray)\n",
        "print(\"the data type of the obtained ndarray \\n\", type(ndarray))"
      ],
      "metadata": {
        "colab": {
          "base_uri": "https://localhost:8080/"
        },
        "id": "Y8L8kGwGxSOf",
        "outputId": "e7d58bf6-a262-4b5b-c975-ffff3912138e"
      },
      "execution_count": 26,
      "outputs": [
        {
          "output_type": "stream",
          "name": "stdout",
          "text": [
            "The array: \n",
            " [[' Series 5' 2014 11200 ... 125 57.6 2.0]\n",
            " [' Series 6' 2018 27000 ... 145 42.8 2.0]\n",
            " [' Series 5' 2016 16000 ... 160 51.4 3.0]\n",
            " ...\n",
            " [' 3 Series' 2023 22572 ... 160 58.4 2.0]\n",
            " [' 3 Series' 2023 22572 ... 160 58.4 2.0]\n",
            " [' 3 Series' 2023 22572 ... 160 58.4 2.0]]\n",
            "the data type of the obtained ndarray \n",
            " <class 'numpy.ndarray'>\n"
          ]
        }
      ]
    },
    {
      "cell_type": "markdown",
      "source": [
        "**Exercise 14:**  Compute for each sample the average mileage per year."
      ],
      "metadata": {
        "id": "R9XtPMvFxVmX"
      }
    },
    {
      "cell_type": "code",
      "source": [
        "df['AverageMileage'] = df['mileage'] / (pd.datetime.now().year - df['year'])\n",
        "\n",
        "print(df)"
      ],
      "metadata": {
        "colab": {
          "base_uri": "https://localhost:8080/"
        },
        "id": "FOkrzmT3xZIS",
        "outputId": "3705f986-15c5-4bc9-ef95-107f41bf6751"
      },
      "execution_count": 27,
      "outputs": [
        {
          "output_type": "stream",
          "name": "stdout",
          "text": [
            "           model  year  price transmission  mileage fuelType  tax   mpg  \\\n",
            "0       Series 5  2014  11200    Automatic    67068   Diesel  125  57.6   \n",
            "1       Series 6  2018  27000    Automatic    14827   Petrol  145  42.8   \n",
            "2       Series 5  2016  16000    Automatic    62794   Diesel  160  51.4   \n",
            "3       Series 1  2017  12750    Automatic    26676   Diesel  145  72.4   \n",
            "4       Series 7  2014  14500    Automatic    39554   Diesel  160  50.4   \n",
            "...          ...   ...    ...          ...      ...      ...  ...   ...   \n",
            "10779   Series 1  2014   9930    Automatic    45000   Diesel   30  64.2   \n",
            "10780         X1  2017  15981    Automatic    59432   Diesel  125  57.6   \n",
            "10781   3 Series  2023  22572    Automatic    74120   Diesel  160  58.4   \n",
            "10782   3 Series  2023  22572    Automatic    74120   Diesel  160  58.4   \n",
            "10783   3 Series  2023  22572    Automatic    74120   Diesel  160  58.4   \n",
            "\n",
            "       engineSize  AverageMileage  \n",
            "0             2.0     7452.000000  \n",
            "1             2.0     2965.400000  \n",
            "2             3.0     8970.571429  \n",
            "3             1.5     4446.000000  \n",
            "4             3.0     4394.888889  \n",
            "...           ...             ...  \n",
            "10779         2.0     5000.000000  \n",
            "10780         2.0     9905.333333  \n",
            "10781         2.0             inf  \n",
            "10782         2.0             inf  \n",
            "10783         2.0             inf  \n",
            "\n",
            "[10784 rows x 10 columns]\n"
          ]
        },
        {
          "output_type": "stream",
          "name": "stderr",
          "text": [
            "<ipython-input-27-f540d923748a>:1: FutureWarning: The pandas.datetime class is deprecated and will be removed from pandas in a future version. Import from datetime module instead.\n",
            "  df['AverageMileage'] = df['mileage'] / (pd.datetime.now().year - df['year'])\n"
          ]
        }
      ]
    }
  ]
}