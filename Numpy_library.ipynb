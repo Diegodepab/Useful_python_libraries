{
  "nbformat": 4,
  "nbformat_minor": 0,
  "metadata": {
    "colab": {
      "provenance": []
    },
    "kernelspec": {
      "name": "python3",
      "display_name": "Python 3"
    },
    "language_info": {
      "name": "python"
    }
  },
  "cells": [
    {
      "cell_type": "markdown",
      "source": [
        "## **NUMPY** LIBRARY EXERCISES\n",
        "\n",
        "Some exercises to show functions or utilities of the numpy library. For more information you can visit: https://numpy.org/doc/stable/reference/index.html"
      ],
      "metadata": {
        "id": "bHdWNOLAuKnJ"
      }
    },
    {
      "cell_type": "code",
      "source": [
        "import numpy as np"
      ],
      "metadata": {
        "id": "pQmoAEpxvJd2"
      },
      "execution_count": 2,
      "outputs": []
    },
    {
      "cell_type": "markdown",
      "source": [
        "**Exercise 1:**  Write a program that creates a unidimensional array with the positive integers smaller than 100 that are multiples of 4."
      ],
      "metadata": {
        "id": "BFkXbiQku_Hd"
      }
    },
    {
      "cell_type": "code",
      "source": [
        "a=np.arange(0,100,4) #To create sequences of integers from 0 to 100\n",
        "\n",
        "print(\"an unidimensional array with the previus condition:\", a, \"\\n\")"
      ],
      "metadata": {
        "colab": {
          "base_uri": "https://localhost:8080/"
        },
        "id": "5F5WvI5AvTo4",
        "outputId": "753bf32d-a4bc-46cb-f26a-b1b34d0d4012"
      },
      "execution_count": 3,
      "outputs": [
        {
          "output_type": "stream",
          "name": "stdout",
          "text": [
            "an unidimensional array with the previus condition: [ 0  4  8 12 16 20 24 28 32 36 40 44 48 52 56 60 64 68 72 76 80 84 88 92\n",
            " 96] \n",
            "\n"
          ]
        }
      ]
    },
    {
      "cell_type": "markdown",
      "source": [
        "**Exercise 2:** Write a program that creates a bidimensional array of 5 rows and 4 columns with the integers from 0 to 19."
      ],
      "metadata": {
        "id": "Keaffer-vdho"
      }
    },
    {
      "cell_type": "code",
      "source": [
        "b = np.arange(20).reshape(5, 4)\n",
        "print(\"Example of bidimensional array:\", \"\\n\", b)"
      ],
      "metadata": {
        "colab": {
          "base_uri": "https://localhost:8080/"
        },
        "id": "s5ltKWPDvlmB",
        "outputId": "b9a99d13-3f2d-444f-b7a1-838e9e8bff58"
      },
      "execution_count": 6,
      "outputs": [
        {
          "output_type": "stream",
          "name": "stdout",
          "text": [
            "Example of bidimensional array: \n",
            " [[ 0  1  2  3]\n",
            " [ 4  5  6  7]\n",
            " [ 8  9 10 11]\n",
            " [12 13 14 15]\n",
            " [16 17 18 19]]\n"
          ]
        }
      ]
    },
    {
      "cell_type": "markdown",
      "source": [
        "**Exercise 3:**  Write a program that inverts the order of the elements of a unidimensional array."
      ],
      "metadata": {
        "id": "V4e0fzkvwJj2"
      }
    },
    {
      "cell_type": "code",
      "source": [
        "print(\"the array a of exercise 1 is a unidimensional array: \", a)\n",
        "a_invert=a[::-1]\n",
        "print(\"invert a:\", a_invert)"
      ],
      "metadata": {
        "colab": {
          "base_uri": "https://localhost:8080/"
        },
        "id": "Oq30twGawZAv",
        "outputId": "91f0db93-0b41-4dcc-b843-3ac9e0762fe6"
      },
      "execution_count": 7,
      "outputs": [
        {
          "output_type": "stream",
          "name": "stdout",
          "text": [
            "the array a of exercise 1 is a unidimensional array:  [ 0  4  8 12 16 20 24 28 32 36 40 44 48 52 56 60 64 68 72 76 80 84 88 92\n",
            " 96]\n",
            "invert a: [96 92 88 84 80 76 72 68 64 60 56 52 48 44 40 36 32 28 24 20 16 12  8  4\n",
            "  0]\n"
          ]
        }
      ]
    },
    {
      "cell_type": "markdown",
      "source": [
        "**Exercise 4:**  Write a program that inverts the order of the rows of a bidimensional array."
      ],
      "metadata": {
        "id": "_OWqP3lwwceY"
      }
    },
    {
      "cell_type": "code",
      "source": [
        "print(\"original array: \",\"\\n\",b)\n",
        "b_invertido = b[::-1]\n",
        "print(\"array with inverted rows: \",\"\\n\", b_invertido)"
      ],
      "metadata": {
        "colab": {
          "base_uri": "https://localhost:8080/"
        },
        "id": "E0wk0XTiwnCJ",
        "outputId": "cb7029f3-ac04-4197-a7bb-ffe999ef950e"
      },
      "execution_count": 9,
      "outputs": [
        {
          "output_type": "stream",
          "name": "stdout",
          "text": [
            "original array:  \n",
            " [[ 0  1  2  3]\n",
            " [ 4  5  6  7]\n",
            " [ 8  9 10 11]\n",
            " [12 13 14 15]\n",
            " [16 17 18 19]]\n",
            "array with inverted rows:  \n",
            " [[16 17 18 19]\n",
            " [12 13 14 15]\n",
            " [ 8  9 10 11]\n",
            " [ 4  5  6  7]\n",
            " [ 0  1  2  3]]\n"
          ]
        }
      ]
    },
    {
      "cell_type": "code",
      "source": [
        "#another way to reach the solution according to the API\n",
        "print(\"original array: \",\"\\n\",b)\n",
        "b_invertido = np.flip(b, 0)\n",
        "print(\"array with inverted rows: \",\"\\n\", b_invertido)"
      ],
      "metadata": {
        "colab": {
          "base_uri": "https://localhost:8080/"
        },
        "id": "c5RtIxcHw9rW",
        "outputId": "082b38b9-1a86-4bfa-cb05-c231c3734e67"
      },
      "execution_count": 11,
      "outputs": [
        {
          "output_type": "stream",
          "name": "stdout",
          "text": [
            "original array:  \n",
            " [[ 0  1  2  3]\n",
            " [ 4  5  6  7]\n",
            " [ 8  9 10 11]\n",
            " [12 13 14 15]\n",
            " [16 17 18 19]]\n",
            "array with inverted rows:  \n",
            " [[16 17 18 19]\n",
            " [12 13 14 15]\n",
            " [ 8  9 10 11]\n",
            " [ 4  5  6  7]\n",
            " [ 0  1  2  3]]\n"
          ]
        }
      ]
    },
    {
      "cell_type": "markdown",
      "source": [
        "**Exercise 5:**  Write a program that computes the mean of the elements of each column of a bidimensional array."
      ],
      "metadata": {
        "id": "E_kH6G0Fwx-z"
      }
    },
    {
      "cell_type": "code",
      "source": [
        "print(\"original bidimensional array: \",\"\\n\",b)\n",
        "mean_b = np.mean(b, axis=0) #we use axis=0 for columns and axis=1 for rows\n",
        "print(\"mean of each columns \",\"\\n\", mean_b)"
      ],
      "metadata": {
        "colab": {
          "base_uri": "https://localhost:8080/"
        },
        "id": "g0cC9kN2w3oX",
        "outputId": "fadfbaed-c4e9-4ee7-971b-14312f548131"
      },
      "execution_count": 13,
      "outputs": [
        {
          "output_type": "stream",
          "name": "stdout",
          "text": [
            "original bidimensional array:  \n",
            " [[ 0  1  2  3]\n",
            " [ 4  5  6  7]\n",
            " [ 8  9 10 11]\n",
            " [12 13 14 15]\n",
            " [16 17 18 19]]\n",
            "mean of each columns  \n",
            " [ 8.  9. 10. 11.]\n"
          ]
        }
      ]
    },
    {
      "cell_type": "markdown",
      "source": [
        "**Exercise 6:**  Write a program that reshapes a unidimensional array into a bidimensional array with 4 rows and 3 columns."
      ],
      "metadata": {
        "id": "P1-mBalNxPhW"
      }
    },
    {
      "cell_type": "code",
      "source": [
        "unidimen=np.arange(12) #This is for having a unidimensional matrix that can be reshaped\n",
        "print(\"Unidemensional array\", unidimen)\n",
        "a_reshaped= np.reshape(unidimen, (4,3))\n",
        "print(\"array 4x3: \", a_reshaped)"
      ],
      "metadata": {
        "colab": {
          "base_uri": "https://localhost:8080/"
        },
        "id": "wC4TVvncxUWS",
        "outputId": "4408b73b-99ac-41a7-bf78-393d26fc7928"
      },
      "execution_count": 14,
      "outputs": [
        {
          "output_type": "stream",
          "name": "stdout",
          "text": [
            "Unidemensional array [ 0  1  2  3  4  5  6  7  8  9 10 11]\n",
            "array 4x3:  [[ 0  1  2]\n",
            " [ 3  4  5]\n",
            " [ 6  7  8]\n",
            " [ 9 10 11]]\n"
          ]
        }
      ]
    },
    {
      "cell_type": "markdown",
      "source": [
        "**Exercise 7:**  Write a program that, given a unidimensional array, checks whether it can be reshaped to a bidimensional array with the same number of rows and columns, i.e., a square matrix. In case that it is possible, it must print the square matrix. Otherwise, it must print an informative message."
      ],
      "metadata": {
        "id": "cE3nee3pxlJI"
      }
    },
    {
      "cell_type": "code",
      "source": [
        "def reshape_to_square(array):\n",
        "    size = np.sqrt(array.size)\n",
        "\n",
        "    # Check if the square root is an integer\n",
        "    if size.is_integer():\n",
        "        # if it is an integer, reshape the array to a square array”\n",
        "        square_matriz = array.reshape(int(size), int(size))\n",
        "        return square_matriz\n",
        "    else:\n",
        "        # print an informative message\n",
        "        return \"Apologies, but the \", array,  \"can't be reshaped into a bidimensional array with an equal number of rows and columns.\"\n",
        "#-----------------------------------------------------------------------------------------------------------------------------------------\n",
        "\n",
        "#case 1, when r it can`t be reshaped to a bidimensional array with the same number of rows and columns,\n",
        "try1=np.arange(20)\n",
        "print(reshape_to_square(try1), \"\\n\")\n",
        "#case 2, when r it canbe reshaped to a bidimensional array with the same number of rows and columns,\n",
        "try2=np.arange(25)\n",
        "print(reshape_to_square(try2))"
      ],
      "metadata": {
        "colab": {
          "base_uri": "https://localhost:8080/"
        },
        "id": "83aZb1Sjxpeh",
        "outputId": "54003693-d882-4e6f-eb13-6f64c8268831"
      },
      "execution_count": 16,
      "outputs": [
        {
          "output_type": "stream",
          "name": "stdout",
          "text": [
            "('Apologies, but the ', array([ 0,  1,  2,  3,  4,  5,  6,  7,  8,  9, 10, 11, 12, 13, 14, 15, 16,\n",
            "       17, 18, 19]), \"can't be reshaped into a bidimensional array with an equal number of rows and columns.\") \n",
            "\n",
            "[[ 0  1  2  3  4]\n",
            " [ 5  6  7  8  9]\n",
            " [10 11 12 13 14]\n",
            " [15 16 17 18 19]\n",
            " [20 21 22 23 24]]\n"
          ]
        }
      ]
    },
    {
      "cell_type": "markdown",
      "source": [
        "**Exercise 8:**  Write a program that, given a bidimensional array, finds the maximum of each row"
      ],
      "metadata": {
        "id": "u2e3wsJsyHAy"
      }
    },
    {
      "cell_type": "code",
      "source": [
        "def max_row(array):\n",
        "    max= np.max(array, axis=1)  #we use axis=0 for columns and axis=1 for rows\n",
        "    return(max)\n",
        "#----------------------------------------------------------------------------\n",
        "example = np.array([[10, 10, 10], [100, 20, 10], [0,-30,5]])\n",
        "print(example)\n",
        "print(\"mean of each rows \", max_row(example))"
      ],
      "metadata": {
        "colab": {
          "base_uri": "https://localhost:8080/"
        },
        "id": "_ECO6GkQyLZY",
        "outputId": "6ec5a051-de4c-4b1b-9d35-dc42ae5cea72"
      },
      "execution_count": 17,
      "outputs": [
        {
          "output_type": "stream",
          "name": "stdout",
          "text": [
            "[[ 10  10  10]\n",
            " [100  20  10]\n",
            " [  0 -30   5]]\n",
            "mean of each rows  [ 10 100   5]\n"
          ]
        }
      ]
    },
    {
      "cell_type": "markdown",
      "source": [
        "**Exercise 9:**  Write a program that, given a unidimensional array, finds the number of occurrences of each of its unique values."
      ],
      "metadata": {
        "id": "RuPqx0qvyWrP"
      }
    },
    {
      "cell_type": "code",
      "source": [
        "def count_unique(array):\n",
        "    unique_v, cnt = np.unique(array, return_counts=True)\n",
        "    result = {value: cnt for value, cnt in zip(unique_v, cnt)}\n",
        "    return result\n",
        "#----------------------------------------------------------------------------\n",
        "example2 = np.array([5, 6, 1, 32, 5, 1, 1, 7, 66, 7])\n",
        "#Dictionary whose keys are the only values and its values are the number of occurrences\n",
        "print(count_unique(example2))"
      ],
      "metadata": {
        "colab": {
          "base_uri": "https://localhost:8080/"
        },
        "id": "nBD-1XlkycAo",
        "outputId": "2747c3f5-3001-4798-f445-f4d9f83c1945"
      },
      "execution_count": 18,
      "outputs": [
        {
          "output_type": "stream",
          "name": "stdout",
          "text": [
            "{1: 3, 5: 2, 6: 1, 7: 2, 32: 1, 66: 1}\n"
          ]
        }
      ]
    },
    {
      "cell_type": "markdown",
      "source": [
        "**Without dictionary:**"
      ],
      "metadata": {
        "id": "0Ac0oeLWynkR"
      }
    },
    {
      "cell_type": "code",
      "source": [
        "def unique_values(example2):\n",
        "    value, cnt = np.unique(example2, return_counts=True);\n",
        "    sol = np.vstack((value, cnt))\n",
        "    return sol.T\n",
        "#----------------------------------------------------------------------------\n",
        "example2 = np.array([5, 6, 1, 32, 5, 1, 1, 7, 66, 7])\n",
        "print(unique_values(example2))"
      ],
      "metadata": {
        "colab": {
          "base_uri": "https://localhost:8080/"
        },
        "id": "L69K159FyvXC",
        "outputId": "238009e4-c9c3-4670-8263-cfa62e6d8a56"
      },
      "execution_count": 19,
      "outputs": [
        {
          "output_type": "stream",
          "name": "stdout",
          "text": [
            "[[ 1  3]\n",
            " [ 5  2]\n",
            " [ 6  1]\n",
            " [ 7  2]\n",
            " [32  1]\n",
            " [66  1]]\n"
          ]
        }
      ]
    },
    {
      "cell_type": "markdown",
      "source": [
        "**Exercise 10:**  Normalize a bidimensional array with 4 rows and 3 columns by subtracting the mean and dividing by the standard deviation on each column."
      ],
      "metadata": {
        "id": "otqIW4OazQRj"
      }
    },
    {
      "cell_type": "code",
      "source": [
        "example43 = np.arange(12).reshape(4, 3)\n",
        "\n",
        "mean = np.mean(example43, axis=0) #columns axis=0\n",
        "std = np.std(example43, axis=0)\n",
        "# \"by subtracting the mean and dividing by the standard deviation on each column\"\n",
        "normal = (example43 - mean) / std\n",
        "print(normal)"
      ],
      "metadata": {
        "colab": {
          "base_uri": "https://localhost:8080/"
        },
        "id": "6AFkJgsAzWHZ",
        "outputId": "2869e266-7a2c-4b74-9e2e-c99061da25da"
      },
      "execution_count": 22,
      "outputs": [
        {
          "output_type": "stream",
          "name": "stdout",
          "text": [
            "[[-1.34164079 -1.34164079 -1.34164079]\n",
            " [-0.4472136  -0.4472136  -0.4472136 ]\n",
            " [ 0.4472136   0.4472136   0.4472136 ]\n",
            " [ 1.34164079  1.34164079  1.34164079]]\n"
          ]
        }
      ]
    },
    {
      "cell_type": "markdown",
      "source": [
        "**Exercise 11:**   Normalize a bidimensional array with 4 rows and 3 columns by subtracting the mean and dividing by the standard deviation on each row."
      ],
      "metadata": {
        "id": "tb9W0A5ozhP4"
      }
    },
    {
      "cell_type": "markdown",
      "source": [
        "Considering that in the previous code we do the same thing, swapping columns and rows, I reuse code like this:"
      ],
      "metadata": {
        "id": "rXPpr_yZztK6"
      }
    },
    {
      "cell_type": "code",
      "source": [
        "#apartado 11 \"lazy version\"\n",
        "example43 = np.arange(12).reshape(4, 3)\n",
        "trans=example43.T #The matrix transpose is np.ndarray.T\n",
        "mean_row = np.mean(trans, axis=0)\n",
        "std_row = np.std(trans, axis=0)\n",
        "# \"by subtracting the mean and dividing by the standard deviation on each ROWS\"\n",
        "normal = (trans - mean_row) / std_row\n",
        "\n",
        "print(normal.T) #return to normality with .T"
      ],
      "metadata": {
        "colab": {
          "base_uri": "https://localhost:8080/"
        },
        "id": "MrDVUVqFzv7C",
        "outputId": "840b5841-1122-4c35-940d-6fa586ae2977"
      },
      "execution_count": 23,
      "outputs": [
        {
          "output_type": "stream",
          "name": "stdout",
          "text": [
            "[[-1.22474487  0.          1.22474487]\n",
            " [-1.22474487  0.          1.22474487]\n",
            " [-1.22474487  0.          1.22474487]\n",
            " [-1.22474487  0.          1.22474487]]\n"
          ]
        }
      ]
    },
    {
      "cell_type": "markdown",
      "source": [
        "But in case transposing a matrix twice is not a considerable solution, I made this method that would be more direct from the problem statement."
      ],
      "metadata": {
        "id": "Krx2OcxYz0Z5"
      }
    },
    {
      "cell_type": "code",
      "source": [
        "#apartado 11 \"better version (?)\"\n",
        "example43 = np.arange(12).reshape(4, 3)\n",
        "\n",
        "mean_row = np.mean(example43, axis=1) #Rows axis=1\n",
        "std_row = np.std(example43, axis=1)\n",
        "# \"by subtracting the mean and dividing by the standard deviation on each ROWS\"\n",
        "# Use np.newaxis to add an extra dimension for broadcasting\n",
        "normal = (example43 - mean_row[:, np.newaxis]) / std_row [:, np.newaxis]\n",
        "\n",
        "print(normal)"
      ],
      "metadata": {
        "colab": {
          "base_uri": "https://localhost:8080/"
        },
        "id": "Z1bSvoYez_P6",
        "outputId": "26ee030a-f3fd-4452-e6fb-dfc442d62075"
      },
      "execution_count": 24,
      "outputs": [
        {
          "output_type": "stream",
          "name": "stdout",
          "text": [
            "[[-1.22474487  0.          1.22474487]\n",
            " [-1.22474487  0.          1.22474487]\n",
            " [-1.22474487  0.          1.22474487]\n",
            " [-1.22474487  0.          1.22474487]]\n"
          ]
        }
      ]
    },
    {
      "cell_type": "markdown",
      "source": [
        "**Exercise 12:**  Write a program that, given a bidimensional array, finds the indices (rows and columns) of the minimum and maximum elements of the array."
      ],
      "metadata": {
        "id": "Lez_UTgD0DO-"
      }
    },
    {
      "cell_type": "code",
      "source": [
        "def find_indice(array):\n",
        "    min_element = np.min(array)\n",
        "    max_element = np.max(array)\n",
        "\n",
        "    min_indices = np.where(array == min_element)\n",
        "    max_indices = np.where(array == max_element)\n",
        "\n",
        "    return \"minimum element of the array: \", min_element, \"with indices in: \", list(min_indices), \\\n",
        "        \"   maximum elements of the array: \", max_element, \"with indices in: \", list(max_indices)\n",
        "#---------------------------------------------------------------------------------\n",
        "#random bidemensional array\n",
        "array = np.random.randint(0, 10, size=(4, 3))\n",
        "\n",
        "print(array)\n",
        "print(find_indice(array))\n",
        "# Find the minimum and maximum elements of the array"
      ],
      "metadata": {
        "colab": {
          "base_uri": "https://localhost:8080/"
        },
        "id": "aS008Xbr0IF2",
        "outputId": "39e77783-f8d2-482b-9488-95329a6b9b92"
      },
      "execution_count": 26,
      "outputs": [
        {
          "output_type": "stream",
          "name": "stdout",
          "text": [
            "[[7 8 6]\n",
            " [2 9 8]\n",
            " [8 9 9]\n",
            " [3 5 9]]\n",
            "('minimum element of the array: ', 2, 'with indices in: ', [array([1]), array([0])], '   maximum elements of the array: ', 9, 'with indices in: ', [array([1, 2, 2, 3]), array([1, 1, 2, 2])])\n"
          ]
        }
      ]
    },
    {
      "cell_type": "markdown",
      "source": [
        "First, I say which element is the smallest, and then I pass a list with the rows where they are located along with the columns where they are, for this example the 1 is in the third row (it comes out 2 because it starts counting from 0), and first column (0) that is 2x0\n",
        "In the case of the maximum element (8) it appears in three different positions\n"
      ],
      "metadata": {
        "id": "UN2jl6XF0e4g"
      }
    },
    {
      "cell_type": "markdown",
      "source": [
        "**Exercise 13:**  Write a program that sorts the rows of a bidimensional array according to the values of the first column."
      ],
      "metadata": {
        "id": "8MhYU0VZ0hMR"
      }
    },
    {
      "cell_type": "code",
      "source": [
        "# apartado 13 Create a RANDOM bidimensional array\n",
        "array_disorderly = np.random.randint(0, 10, size=(4, 3))\n",
        "print(array_disorderly,'\\n')\n",
        "\n",
        "# \"Write a program that sorts the rows of a bidimensional array according to the values of the first column.\"\n",
        "sorted_array = array_disorderly[array_disorderly[:, 0].argsort()]\n",
        "\n",
        "print(sorted_array)"
      ],
      "metadata": {
        "colab": {
          "base_uri": "https://localhost:8080/"
        },
        "id": "ZsAaLUqb0k7R",
        "outputId": "2f37274b-cdfc-4cd2-bea9-a5f0b77636f0"
      },
      "execution_count": 27,
      "outputs": [
        {
          "output_type": "stream",
          "name": "stdout",
          "text": [
            "[[7 3 8]\n",
            " [4 1 9]\n",
            " [3 8 6]\n",
            " [4 0 1]] \n",
            "\n",
            "[[3 8 6]\n",
            " [4 1 9]\n",
            " [4 0 1]\n",
            " [7 3 8]]\n"
          ]
        }
      ]
    },
    {
      "cell_type": "markdown",
      "source": [
        "**Exercise 14:**  Write a program that generates a bidimensional array with 7 rows and 5 columns\n",
        "randomly according to the normal distribution, and then sets to zero all negative\n",
        "elements.\n"
      ],
      "metadata": {
        "id": "Se-EpvuX0ssB"
      }
    },
    {
      "cell_type": "code",
      "source": [
        "random_array = np.random.normal(size=(7, 5))\n",
        "print(random_array,'\\n')\n",
        "# Set to zero all negative elementsand then sets to zero all negative elements.\n",
        "random_array[random_array < 0] = 0\n",
        "# Print the modified array\n",
        "print(\"Modified array:\")\n",
        "print(random_array)"
      ],
      "metadata": {
        "colab": {
          "base_uri": "https://localhost:8080/"
        },
        "id": "vIGhlpB50xqx",
        "outputId": "c19d8237-33a2-4671-fef6-2400c2a7cebd"
      },
      "execution_count": 30,
      "outputs": [
        {
          "output_type": "stream",
          "name": "stdout",
          "text": [
            "[[ 1.5381746  -0.69894649 -0.18182154  0.56354938 -0.69514962]\n",
            " [-3.13980679 -1.17631915  0.49587849 -1.00803646  0.1768121 ]\n",
            " [-1.1751212   0.00456917 -1.52992754 -1.37643535 -0.96712798]\n",
            " [ 1.10440158  0.72474219  0.22275378 -0.08419728  0.55258234]\n",
            " [ 1.25774429  0.72843098  0.71990661 -1.47140336 -1.58512062]\n",
            " [ 1.38426476 -2.08693666  1.14200393 -0.2707436   0.33005928]\n",
            " [ 1.53852212  0.87695781 -0.91988463 -1.75829851  1.03658906]] \n",
            "\n",
            "Modified array:\n",
            "[[1.5381746  0.         0.         0.56354938 0.        ]\n",
            " [0.         0.         0.49587849 0.         0.1768121 ]\n",
            " [0.         0.00456917 0.         0.         0.        ]\n",
            " [1.10440158 0.72474219 0.22275378 0.         0.55258234]\n",
            " [1.25774429 0.72843098 0.71990661 0.         0.        ]\n",
            " [1.38426476 0.         1.14200393 0.         0.33005928]\n",
            " [1.53852212 0.87695781 0.         0.         1.03658906]]\n"
          ]
        }
      ]
    },
    {
      "cell_type": "markdown",
      "source": [
        "**Exercise 15:**  Write a program that, given a unidimensional array and a positive integer k, finds the indices of the k largest values of the array."
      ],
      "metadata": {
        "id": "Ve6nf1sA1CEZ"
      }
    },
    {
      "cell_type": "code",
      "source": [
        "def find_largest(array, k): #este codigo esta hecho sin suponiendo que k siempre\n",
        "                            # sera entero y positivo  y el array unidimensional\n",
        "  # Sort the array in descending and get the first k\n",
        "  sorted_array = np.sort(array)[::-1][:k]\n",
        "  # Find the indices of the sorted elements in the original array\n",
        "  indices = np.where(np.isin(array, sorted_array))[0]\n",
        "  return list(indices)\n",
        "#----------------------------------------------------------------------------\n",
        "# Define a function that finds the indices of the k largest values of an array\n",
        "example=np.arange(12)\n",
        "k = 5\n",
        "print(\"Array:\", example)\n",
        "print(\"k:\", k)\n",
        "print(\"Indices of the k largest valores:\", find_largest(example,k))"
      ],
      "metadata": {
        "colab": {
          "base_uri": "https://localhost:8080/"
        },
        "id": "2to1H-P21Fex",
        "outputId": "6c0ff411-512c-4776-8b86-f1128176e083"
      },
      "execution_count": 33,
      "outputs": [
        {
          "output_type": "stream",
          "name": "stdout",
          "text": [
            "Array: [ 0  1  2  3  4  5  6  7  8  9 10 11]\n",
            "k: 5\n",
            "Indices of the k largest valores: [7, 8, 9, 10, 11]\n"
          ]
        }
      ]
    },
    {
      "cell_type": "markdown",
      "source": [
        "**Exercise 16:**  Write a program that generates a bidimensional array with 6 rows and 7 columns\n",
        "randomly according to the uniform distribution between 0 and 1, and then sets to zero\n",
        "the two first columns and sets to one the three last columns.\n"
      ],
      "metadata": {
        "id": "eQsebqNx1imw"
      }
    },
    {
      "cell_type": "code",
      "source": [
        "# generates a bidimensional array with 6 rows and 7 columns\n",
        "#randomly according to the uniform distribution between 0 and 1\n",
        "array = np.random.uniform(0, 1, size=(6, 7))\n",
        "\n",
        "print(\"original array:\")\n",
        "print(array)\n",
        "\n",
        "array[:, :2] = 0 #sets to zero the two first columns\n",
        "array[:, -3:] = 1 #sets to one the three last columns.\n",
        "\n",
        "print(\"final array:\")\n",
        "print(array)"
      ],
      "metadata": {
        "colab": {
          "base_uri": "https://localhost:8080/"
        },
        "id": "QJ_k1VvG1kH5",
        "outputId": "03b56683-c890-40e1-f43f-c31a3412adc3"
      },
      "execution_count": 34,
      "outputs": [
        {
          "output_type": "stream",
          "name": "stdout",
          "text": [
            "original array:\n",
            "[[0.62826081 0.43369944 0.69182166 0.84160385 0.72382728 0.21763511\n",
            "  0.69495716]\n",
            " [0.1579799  0.85697734 0.79342535 0.30214041 0.65776167 0.65505935\n",
            "  0.29436641]\n",
            " [0.31504619 0.44276411 0.65000896 0.06334898 0.39440512 0.44832299\n",
            "  0.20737566]\n",
            " [0.44836963 0.95997053 0.60325165 0.99337006 0.46281098 0.69321623\n",
            "  0.74783006]\n",
            " [0.08840618 0.70961763 0.85227968 0.42093354 0.7162774  0.73027138\n",
            "  0.44579655]\n",
            " [0.83442927 0.46879512 0.55862432 0.12672276 0.70678189 0.00781542\n",
            "  0.81652163]]\n",
            "final array:\n",
            "[[0.         0.         0.69182166 0.84160385 1.         1.\n",
            "  1.        ]\n",
            " [0.         0.         0.79342535 0.30214041 1.         1.\n",
            "  1.        ]\n",
            " [0.         0.         0.65000896 0.06334898 1.         1.\n",
            "  1.        ]\n",
            " [0.         0.         0.60325165 0.99337006 1.         1.\n",
            "  1.        ]\n",
            " [0.         0.         0.85227968 0.42093354 1.         1.\n",
            "  1.        ]\n",
            " [0.         0.         0.55862432 0.12672276 1.         1.\n",
            "  1.        ]]\n"
          ]
        }
      ]
    }
  ]
}